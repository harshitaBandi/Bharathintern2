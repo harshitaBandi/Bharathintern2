{
  "nbformat": 4,
  "nbformat_minor": 0,
  "metadata": {
    "colab": {
      "provenance": []
    },
    "kernelspec": {
      "name": "python3",
      "display_name": "Python 3"
    },
    "language_info": {
      "name": "python"
    }
  },
  "cells": [
    {
      "cell_type": "code",
      "execution_count": null,
      "metadata": {
        "id": "bmCPQS4XLj-h"
      },
      "outputs": [],
      "source": [
        "import pandas as pd\n",
        "from sklearn.linear_model import LinearRegression\n",
        "from sklearn.model_selection import train_test_split\n",
        "from sklearn.metrics import mean_squared_error, r2_score"
      ]
    },
    {
      "cell_type": "code",
      "source": [
        "# Load the dataset from a CSV file\n",
        "df = pd.read_csv('wine_quality_dataset.csv')"
      ],
      "metadata": {
        "id": "zF0ZmEoFLl4b"
      },
      "execution_count": null,
      "outputs": []
    },
    {
      "cell_type": "code",
      "source": [
        "# Split the data into input and output variables\n",
        "X = df[['fixed acidity', 'volatile acidity', 'citric acid', 'residual sugar', 'chlorides', 'free sulfur dioxide', 'total sulfur dioxide', 'density', 'pH', 'sulphates', 'alcohol']]\n",
        "y = df['quality']\n",
        "\n",
        "# Handle missing values\n",
        "X.fillna(X.mean(), inplace=True)\n",
        "y.fillna(y.mean(), inplace=True)\n",
        "\n",
        "# Split the data into training and testing sets\n",
        "X_train, X_test, y_train, y_test = train_test_split(X, y, test_size=0.25, random_state=42)"
      ],
      "metadata": {
        "id": "ASU-4Q9ULoAH"
      },
      "execution_count": null,
      "outputs": []
    },
    {
      "cell_type": "code",
      "source": [
        "# Create a linear regression object\n",
        "model = LinearRegression()\n",
        "\n",
        "# Fit the model to the training data\n",
        "model.fit(X_train, y_train)"
      ],
      "metadata": {
        "id": "1942THWbLqlh"
      },
      "execution_count": null,
      "outputs": []
    },
    {
      "cell_type": "code",
      "source": [
        "# Make predictions on the test data\n",
        "y_pred = model.predict(X_test)\n",
        "\n",
        "# Calculate the mean squared error and r-squared score\n",
        "mse = mean_squared_error(y_test, y_pred)\n",
        "r2 = r2_score(y_test, y_pred)\n",
        "\n",
        "# Print the model evaluation metrics\n",
        "print('Mean squared error:', mse)\n",
        "print('R-squared score:', r2)"
      ],
      "metadata": {
        "id": "AbmEyJG9LtdD"
      },
      "execution_count": null,
      "outputs": []
    },
    {
      "cell_type": "code",
      "source": [
        "# To make predictions on new data, simply pass the input features to the trained model\n",
        "new_data = {'fixed acidity': 8.0, 'volatile acidity': 0.5, 'citric acid': 0.3, 'residual sugar': 1.2, 'chlorides': 0.05, 'free sulfur dioxide': 30.0, 'total sulfur dioxide': 120.0, 'density': 0.99, 'pH': 3.2, 'sulphates': 0.7, 'alcohol': 10.0}\n",
        "\n",
        "# Make a prediction on the new data\n",
        "prediction = model.predict([new_data])\n",
        "\n",
        "# Print the prediction\n",
        "print('Predicted wine quality:', prediction[0])"
      ],
      "metadata": {
        "id": "rUMl-SKyLvft"
      },
      "execution_count": null,
      "outputs": []
    }
  ]
}